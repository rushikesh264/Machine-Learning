{
 "cells": [
  {
   "cell_type": "code",
   "execution_count": 48,
   "metadata": {},
   "outputs": [],
   "source": [
    "import numpy as np\n",
    "import matplotlib.pyplot as plt\n",
    "from sklearn.datasets import make_classification\n",
    "from sklearn.model_selection import train_test_split\n",
    "from sklearn import metrics\n",
    "import seaborn as sns\n",
    "data, label = make_classification(\n",
    "    n_features=2,\n",
    "    n_classes=2,\n",
    "    n_samples=100,\n",
    "    n_redundant=0,\n",
    "    n_clusters_per_class=1\n",
    ")\n"
   ]
  },
  {
   "cell_type": "code",
   "execution_count": 49,
   "metadata": {},
   "outputs": [
    {
     "name": "stdout",
     "output_type": "stream",
     "text": [
      "(80, 2)\n",
      "(20, 2)\n",
      "(80,)\n",
      "(20,)\n"
     ]
    }
   ],
   "source": [
    "x_train,x_test,y_train,y_test=train_test_split(data,label,test_size=0.20,random_state=2)\n",
    "print(x_train.shape)\n",
    "print(x_test.shape)\n",
    "print(y_train.shape)\n",
    "print(y_test.shape)\n"
   ]
  },
  {
   "cell_type": "code",
   "execution_count": 50,
   "metadata": {},
   "outputs": [
    {
     "data": {
      "text/plain": [
       "LogisticRegression(C=1.0, class_weight=None, dual=False, fit_intercept=True,\n",
       "                   intercept_scaling=1, l1_ratio=None, max_iter=100,\n",
       "                   multi_class='auto', n_jobs=None, penalty='l2',\n",
       "                   random_state=None, solver='lbfgs', tol=0.0001, verbose=0,\n",
       "                   warm_start=False)"
      ]
     },
     "execution_count": 50,
     "metadata": {},
     "output_type": "execute_result"
    }
   ],
   "source": [
    "#import logistic regression model\n",
    "from sklearn.linear_model import LogisticRegression\n",
    "\n",
    "#making an instance of model and training it\n",
    "lr=LogisticRegression()\n",
    "lr.fit(x_train,y_train)\n"
   ]
  },
  {
   "cell_type": "code",
   "execution_count": 51,
   "metadata": {},
   "outputs": [
    {
     "name": "stdout",
     "output_type": "stream",
     "text": [
      "Actual label of 1st test sample: 1\n",
      "Prediction of 1st test sample: [1]\n"
     ]
    }
   ],
   "source": [
    "#predicting output of the first element of the test set\n",
    "print(\"Actual label of 1st test sample:\",y_test[0])\n",
    "print(\"Prediction of 1st test sample:\",lr.predict(x_test[0].reshape(1,-1)))"
   ]
  },
  {
   "cell_type": "code",
   "execution_count": 52,
   "metadata": {},
   "outputs": [
    {
     "name": "stdout",
     "output_type": "stream",
     "text": [
      "Actual label of 1st 10 test sample: [1 0 1 0 1 1 1 0 1 0]\n",
      "Prediction of 1st  10 test sample: [1 0 1 0 1 1 1 0 1 0]\n"
     ]
    }
   ],
   "source": [
    "#predicting output of the first 10 elements of the test set\n",
    "print(\"Actual label of 1st 10 test sample:\",y_test[0:10])\n",
    "print(\"Prediction of 1st  10 test sample:\",lr.predict(x_test[0:10]))"
   ]
  },
  {
   "cell_type": "code",
   "execution_count": 53,
   "metadata": {},
   "outputs": [
    {
     "name": "stdout",
     "output_type": "stream",
     "text": [
      "Actual label of all test sample: [1 0 1 0 1 1 1 0 1 0 1 0 0 1 1 0 0 0 1 0]\n",
      "Prediction of 1st all test sample: [1 0 1 0 1 1 1 0 1 0 1 0 0 1 1 0 0 0 1 0]\n"
     ]
    }
   ],
   "source": [
    "#predicting entire dataset\n",
    "print(\"Actual label of all test sample:\",y_test[:])\n",
    "print(\"Prediction of 1st all test sample:\",lr.predict(x_test))"
   ]
  },
  {
   "cell_type": "code",
   "execution_count": 54,
   "metadata": {},
   "outputs": [
    {
     "name": "stdout",
     "output_type": "stream",
     "text": [
      "1.0\n"
     ]
    }
   ],
   "source": [
    "#Determining accuracy of the model\n",
    "score=lr.score(x_test,y_test)\n",
    "print(score)"
   ]
  },
  {
   "cell_type": "code",
   "execution_count": 55,
   "metadata": {},
   "outputs": [
    {
     "name": "stdout",
     "output_type": "stream",
     "text": [
      "[[4 6]\n",
      " [3 7]]\n"
     ]
    }
   ],
   "source": [
    "#create confussion matrix\n",
    "cm=metrics.confusion_matrix(y_test,predictions)\n",
    "print(cm)"
   ]
  },
  {
   "cell_type": "code",
   "execution_count": 56,
   "metadata": {},
   "outputs": [
    {
     "data": {
      "image/png": "[encoded data removed]",
      "text/plain": [
       "<Figure size 648x648 with 2 Axes>"
      ]
     },
     "metadata": {
      "needs_background": "light"
     },
     "output_type": "display_data"
    }
   ],
   "source": [
    "#Displying confussion matrix in heat map\n",
    "plt.figure(figsize=(9,9))\n",
    "sns.heatmap(cm,annot=True,fmt=\".3f\",linewidths=.5,square=True,cmap='Blues_r');\n",
    "plt.ylabel('Actual label');\n",
    "plt.xlabel('Predicted label');\n",
    "all_sample_title='accuracy Score:{0}'.format(score)\n",
    "plt.title(all_sample_title,size=15);\n"
   ]
  }
 ],
 "metadata": {
  "kernelspec": {
   "display_name": "Python 3",
   "language": "python",
   "name": "python3"
  },
  "language_info": {
   "codemirror_mode": {
    "name": "ipython",
    "version": 3
   },
   "file_extension": ".py",
   "mimetype": "text/x-python",
   "name": "python",
   "nbconvert_exporter": "python",
   "pygments_lexer": "ipython3",
   "version": "3.6.10"
  }
 },
 "nbformat": 4,
 "nbformat_minor": 4
}
