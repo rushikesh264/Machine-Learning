{
 "cells": [
  {
   "cell_type": "code",
   "execution_count": 278,
   "metadata": {},
   "outputs": [],
   "source": [
    "#Importing Essentials Libraries\n",
    "\n",
    "import pandas as pd\n",
    "import numpy as np\n",
    "import matplotlib.pyplot as plt\n"
   ]
  },
  {
   "cell_type": "code",
   "execution_count": 279,
   "metadata": {},
   "outputs": [
    {
     "data": {
      "text/html": [
       "<div>\n",
       "<style scoped>\n",
       "    .dataframe tbody tr th:only-of-type {\n",
       "        vertical-align: middle;\n",
       "    }\n",
       "\n",
       "    .dataframe tbody tr th {\n",
       "        vertical-align: top;\n",
       "    }\n",
       "\n",
       "    .dataframe thead th {\n",
       "        text-align: right;\n",
       "    }\n",
       "</style>\n",
       "<table border=\"1\" class=\"dataframe\">\n",
       "  <thead>\n",
       "    <tr style=\"text-align: right;\">\n",
       "      <th></th>\n",
       "      <th>YearsExperience</th>\n",
       "      <th>Salary</th>\n",
       "    </tr>\n",
       "  </thead>\n",
       "  <tbody>\n",
       "    <tr>\n",
       "      <th>0</th>\n",
       "      <td>1.1</td>\n",
       "      <td>39343</td>\n",
       "    </tr>\n",
       "    <tr>\n",
       "      <th>1</th>\n",
       "      <td>1.3</td>\n",
       "      <td>46205</td>\n",
       "    </tr>\n",
       "    <tr>\n",
       "      <th>2</th>\n",
       "      <td>1.5</td>\n",
       "      <td>37731</td>\n",
       "    </tr>\n",
       "    <tr>\n",
       "      <th>3</th>\n",
       "      <td>2.0</td>\n",
       "      <td>43525</td>\n",
       "    </tr>\n",
       "    <tr>\n",
       "      <th>4</th>\n",
       "      <td>2.2</td>\n",
       "      <td>39891</td>\n",
       "    </tr>\n",
       "  </tbody>\n",
       "</table>\n",
       "</div>"
      ],
      "text/plain": [
       "   YearsExperience  Salary\n",
       "0              1.1   39343\n",
       "1              1.3   46205\n",
       "2              1.5   37731\n",
       "3              2.0   43525\n",
       "4              2.2   39891"
      ]
     },
     "execution_count": 279,
     "metadata": {},
     "output_type": "execute_result"
    }
   ],
   "source": [
    "#Reading dataset using pandas\n",
    "\n",
    "data=pd.read_csv('dataset.csv')\n",
    "data.head()"
   ]
  },
  {
   "cell_type": "code",
   "execution_count": 281,
   "metadata": {},
   "outputs": [],
   "source": [
    "#calculating mean of YearsExperience and Salary respectivly\n",
    "\n",
    "xmean=data.iloc[:,:1].mean()\n",
    "ymean=data.iloc[:,-1:].mean()"
   ]
  },
  {
   "cell_type": "markdown",
   "metadata": {},
   "source": [
    "# Formula for varience and co-varience:\n",
    "\n",
    "1) Varience:  sum((x[i]-xmean)**2)\n",
    "\n",
    "2) Co_varience: sum((x[i]-xmean)*(y[i]-ymean))"
   ]
  },
  {
   "cell_type": "code",
   "execution_count": 282,
   "metadata": {},
   "outputs": [],
   "source": [
    "#calculating varience and co-varience\n",
    "co_var=0\n",
    "var=0\n",
    "for i,y in enumerate(data.iloc[:,:].values):\n",
    "    t=float(y[0]-xmean)\n",
    "    var+=(float(y[0]-xmean))**2\n",
    "    co_var+=(t*float(y[1]-ymean))\n",
    "var=round(var,2)\n",
    "co_var=round(co_var,2)"
   ]
  },
  {
   "cell_type": "code",
   "execution_count": 291,
   "metadata": {},
   "outputs": [
    {
     "name": "stdout",
     "output_type": "stream",
     "text": [
      "Slope: 9450.151145365016\n",
      "Y-intercept: Salary    25791.196914\n",
      "dtype: float64\n"
     ]
    }
   ],
   "source": [
    "m=co_var/var\n",
    "print(\"Slope:\",m)\n",
    "\n",
    "c=ymean-float(m*xmean)\n",
    "print(\"Y-intercept:\",c)\n"
   ]
  },
  {
   "cell_type": "code",
   "execution_count": 284,
   "metadata": {},
   "outputs": [
    {
     "data": {
      "text/plain": [
       "Text(0.5, 1.0, 'Experience vs Salary')"
      ]
     },
     "execution_count": 284,
     "metadata": {},
     "output_type": "execute_result"
    },
    {
     "data": {
      "image/png": "[encoded data removed]",
      "text/plain": [
       "<Figure size 720x504 with 1 Axes>"
      ]
     },
     "metadata": {
      "needs_background": "light"
     },
     "output_type": "display_data"
    }
   ],
   "source": [
    "plt.figure(figsize=(10,7))\n",
    "plt.scatter(data.iloc[:,0:1],data.iloc[:,-1:],color=\"green\")\n",
    "plt.xlim(xmin-1,xmax+1)\n",
    "plt.xlabel(\"Experience\")\n",
    "plt.ylabel(\"Salary\")\n",
    "plt.ylim(ymin-10000,ymax+10000)\n",
    "plt.title(\"Experience vs Salary\")"
   ]
  },
  {
   "cell_type": "markdown",
   "metadata": {},
   "source": [
    "# Finding Mean Squeare Error\n",
    "\n",
    "**Formula:\n",
    "        Error=sum(pow((ypred-ymean),2))/pow(sum((y-ymean),2))"
   ]
  },
  {
   "cell_type": "code",
   "execution_count": 286,
   "metadata": {},
   "outputs": [
    {
     "name": "stdout",
     "output_type": "stream",
     "text": [
      "Mean Squeared Error: 0.12\n"
     ]
    }
   ],
   "source": [
    "n,d=0,0\n",
    "for  i,y in enumerate(data.iloc[:,:1].values):\n",
    "    p=(float(m*y[0])+c)\n",
    "    n+=(p-ymean)**2\n",
    "    d+=(y[0]-ymean)**2\n",
    "print(\"Mean Squeared Error:\",round(float(n/d),2))"
   ]
  },
  {
   "cell_type": "markdown",
   "metadata": {},
   "source": [
    "# prediction\n"
   ]
  },
  {
   "cell_type": "code",
   "execution_count": 274,
   "metadata": {},
   "outputs": [],
   "source": [
    "#making predictions and storing Real-salary and predicted salary in prediction list\n",
    "prediction=[]\n",
    "real=[]\n",
    "exp=[]\n",
    "for  i,y in enumerate(data.iloc[:,:].values):\n",
    "   \n",
    "        prediction.append(float(float(m*y[0])+c))\n",
    "        real.append(float(y[1]))\n",
    "        exp.append(float(y[0]))"
   ]
  },
  {
   "cell_type": "code",
   "execution_count": 290,
   "metadata": {
    "scrolled": true
   },
   "outputs": [
    {
     "data": {
      "text/plain": [
       "<matplotlib.legend.Legend at 0x24419754048>"
      ]
     },
     "execution_count": 290,
     "metadata": {},
     "output_type": "execute_result"
    },
    {
     "data": {
      "image/png": "[encoded data removed]",
      "text/plain": [
       "<Figure size 720x432 with 1 Axes>"
      ]
     },
     "metadata": {
      "needs_background": "light"
     },
     "output_type": "display_data"
    }
   ],
   "source": [
    "plt.figure(figsize=(10,6))\n",
    "plt.title(\"Real_salary Vs Predicted Salary with YearsExperience\")\n",
    "plt.plot(exp,prediction,label=\"Prediction\")\n",
    "plt.plot(exp,real,label=\"Real\")\n",
    "plt.xlabel(\"YearsExperience\")\n",
    "plt.ylabel(\"Salary\")\n",
    "\n",
    "plt.legend()"
   ]
  }
 ],
 "metadata": {
  "kernelspec": {
   "display_name": "Python 3",
   "language": "python",
   "name": "python3"
  },
  "language_info": {
   "codemirror_mode": {
    "name": "ipython",
    "version": 3
   },
   "file_extension": ".py",
   "mimetype": "text/x-python",
   "name": "python",
   "nbconvert_exporter": "python",
   "pygments_lexer": "ipython3",
   "version": "3.6.10"
  }
 },
 "nbformat": 4,
 "nbformat_minor": 2
}
