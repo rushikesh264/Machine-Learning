{
 "cells": [
  {
   "cell_type": "code",
   "execution_count": 4,
   "metadata": {},
   "outputs": [
    {
     "name": "stdout",
     "output_type": "stream",
     "text": [
      "Total +ve Examples=> 9\n",
      "Total -ve Examples=> 5\n",
      "Probability of +ve Examples=> 0.64\n",
      "Probability of -ve Examples=> 0.36\n",
      "Probabilities of=> ['ovr', 'rn', 'sn', 'cl', 'ht', 'ml', 'hi', 'nm', 'f', 't']\n",
      "Yes=> [0.44 0.33 0.22 0.33 0.22 0.44 0.33 0.67 0.67 0.33]\n",
      "No=> [0.  0.4 0.6 0.2 0.4 0.4 0.8 0.2 0.4 0.6]\n",
      "Enter test instance:rn,ht,nm,f\n",
      "[[0.4  0.33]\n",
      " [0.4  0.22]\n",
      " [0.2  0.67]\n",
      " [0.4  0.67]]\n",
      "p1: 0.0209 p2: 0.0046\n",
      "Prediction=>YES!!\n"
     ]
    }
   ],
   "source": [
    "import numpy as np\n",
    "data=[['sn','ht','hi','f',0],['sn','ht','hi','t',0],['ovr','ht','hi','f',1],['rn','ml','hi','f',1],['rn','cl','nm','f',1]\n",
    "     ,['rn','cl','nm','t',0],['ovr','cl','nm','f',1],['sn','ml','hi','f',0],['sn','cl','nm','f',1],['rn','ml','nm','t',1]\n",
    "     ,['sn','ml','nm','t',1],['ovr','ml','hi','t',1],['ovr','ht','nm','f',1],['rn','ml','hi','t',0]]\n",
    "data=np.array(data)\n",
    "#X,y=data[:,:4],data[:,4]\n",
    "#print(X,y)\n",
    "l=data.shape\n",
    "species=[]\n",
    "for i in range(l[1]): \n",
    "    species.append(list(np.unique(data[:,i])))\n",
    "\n",
    "count=0\n",
    "clist=[]  #for storing probabilities\n",
    "#total +ve samples and -ve samples\n",
    "no=list(data[:,l[1]-1]).count(species[l[1]-1][0])\n",
    "yes=l[0]-no\n",
    "print(\"Total +ve Examples=>\",yes)\n",
    "print(\"Total -ve Examples=>\",no)\n",
    "pno=round((no/l[0]),2)\n",
    "pyes=round((yes/l[0]),2)\n",
    "print(\"Probability of +ve Examples=>\",pyes)\n",
    "print(\"Probability of -ve Examples=>\",pno)\n",
    "\n",
    "\n",
    "def countall(i,j):\n",
    "    c1,c2=0,0\n",
    "    for x in data:\n",
    "        if (x[i]==species[i][j] and x[l[1]-1]==species[l[1]-1][0]):\n",
    "            c1+=1\n",
    "        elif(x[i]==species[i][j] and x[l[1]-1]==species[l[1]-1][1]):\n",
    "            c2+=1\n",
    "    return [round(c1/no,2),round(c2/yes,2)]\n",
    "temp=[]  #just for printing possible values of \n",
    "for i in range(len(species)-1):\n",
    "    for j in range(len(species[i])):\n",
    "        temp.append(species[i][j])  #only for printing purpose\n",
    "        clist.append(countall(i,j))\n",
    "clist=np.array(clist)\n",
    "print(\"Probabilities of=>\",temp)\n",
    "print(\"Yes=>\",clist[:,1])\n",
    "print(\"No=>\",clist[:,0])\n",
    "today=input(\"Enter test instance:\")\n",
    "today=today.split(',')\n",
    "\n",
    "#today=['sn','cl','hi','t']  \n",
    "k=0\n",
    "ind=[]  #for storing test_sample probabilities\n",
    "for i in range(len(species)-1):\n",
    "    for j in range(len(species[i])):\n",
    "        #print(species[i][j])\n",
    "        if today[i]==species[i][j]:\n",
    "            ind.append(clist[k].tolist())\n",
    "        k+=1\n",
    "ind=np.array(ind)\n",
    "#calculate prob of no and yes then prin max \n",
    "print(ind)\n",
    "def mult(l):\n",
    "    m=1\n",
    "    for x in l:\n",
    "        m=m*x\n",
    "    return m\n",
    "\n",
    "p1=round(mult(ind[:,1])*pyes,4)\n",
    "p2=round(mult(ind[:,0])*pno,4)\n",
    "print(\"p1:\",p1,\"p2:\",p2)\n",
    "if(p1>p2):\n",
    "    print(\"Prediction=>YES!!\")\n",
    "else:\n",
    "    print(\"Prediction=>NO!!\")"
   ]
  },
  {
   "cell_type": "code",
   "execution_count": 147,
   "metadata": {},
   "outputs": [
    {
     "data": {
      "text/plain": [
       "[array([0.        , 0.44444444]),\n",
       " array([0.6       , 0.22222222]),\n",
       " array([0.4       , 0.22222222]),\n",
       " array([0.8       , 0.33333333])]"
      ]
     },
     "execution_count": 147,
     "metadata": {},
     "output_type": "execute_result"
    }
   ],
   "source": []
  }
 ],
 "metadata": {
  "kernelspec": {
   "display_name": "Python 3",
   "language": "python",
   "name": "python3"
  },
  "language_info": {
   "codemirror_mode": {
    "name": "ipython",
    "version": 3
   },
   "file_extension": ".py",
   "mimetype": "text/x-python",
   "name": "python",
   "nbconvert_exporter": "python",
   "pygments_lexer": "ipython3",
   "version": "3.6.10"
  }
 },
 "nbformat": 4,
 "nbformat_minor": 4
}
