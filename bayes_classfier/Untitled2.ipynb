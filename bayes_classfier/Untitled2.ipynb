{
 "cells": [
  {
   "cell_type": "code",
   "execution_count": 77,
   "metadata": {},
   "outputs": [
    {
     "name": "stdout",
     "output_type": "stream",
     "text": [
      "Number of features: \n",
      "Features are: \n"
     ]
    }
   ],
   "source": [
    "from tkinter import *\n",
    "\n",
    "def sub():\n",
    "    print(\"Number of features:\",e1.get())\n",
    "    print(\"Features are:\",e2.get())\n",
    "\n",
    "gui = Tk()\n",
    "# set window size\n",
    "gui.geometry(\"500x300\")\n",
    "gui.title(\"Bayes Classifier\")\n",
    "gui.configure(background='#d6dbdf')\n",
    "l1=Label(master=gui,text=\"Enter Number of features:\",font=(\"Arial\",'10','bold')).grid(row=2,column=1)\n",
    "e1=Entry(master=gui)\n",
    "e1.grid(row=2,column=2)\n",
    "l2=Label(master=gui,text=\"Enter Features One By One:\",font=(\"Arial\",'10','bold')).grid(row=3,column=1)\n",
    "e2=Entry(master=gui,width=30)\n",
    "e2.grid(row=3,column=2)\n",
    "\n",
    "b1=Button(master=gui,text=\"Add1\",font=(\"Arial\",'10','bold'),command=sub)\n",
    "b1.grid(row=12,column=4)\n",
    "gui.mainloop() "
   ]
  }
 ],
 "metadata": {
  "kernelspec": {
   "display_name": "Python 3",
   "language": "python",
   "name": "python3"
  },
  "language_info": {
   "codemirror_mode": {
    "name": "ipython",
    "version": 3
   },
   "file_extension": ".py",
   "mimetype": "text/x-python",
   "name": "python",
   "nbconvert_exporter": "python",
   "pygments_lexer": "ipython3",
   "version": "3.6.10"
  }
 },
 "nbformat": 4,
 "nbformat_minor": 4
}
