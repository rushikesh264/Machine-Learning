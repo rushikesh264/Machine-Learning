{
 "cells": [
  {
   "cell_type": "code",
   "execution_count": 5,
   "metadata": {},
   "outputs": [],
   "source": [
    "#importing liabraries\n",
    "import pandas as pd\n",
    "import math\n",
    "import numpy as np\n",
    "import matplotlib.pyplot as plt"
   ]
  },
  {
   "cell_type": "code",
   "execution_count": 76,
   "metadata": {},
   "outputs": [
    {
     "data": {
      "text/html": [
       "<div>\n",
       "<style scoped>\n",
       "    .dataframe tbody tr th:only-of-type {\n",
       "        vertical-align: middle;\n",
       "    }\n",
       "\n",
       "    .dataframe tbody tr th {\n",
       "        vertical-align: top;\n",
       "    }\n",
       "\n",
       "    .dataframe thead th {\n",
       "        text-align: right;\n",
       "    }\n",
       "</style>\n",
       "<table border=\"1\" class=\"dataframe\">\n",
       "  <thead>\n",
       "    <tr style=\"text-align: right;\">\n",
       "      <th></th>\n",
       "      <th>Id</th>\n",
       "      <th>SepalLengthCm</th>\n",
       "      <th>SepalWidthCm</th>\n",
       "      <th>PetalLengthCm</th>\n",
       "      <th>PetalWidthCm</th>\n",
       "      <th>Species</th>\n",
       "    </tr>\n",
       "  </thead>\n",
       "  <tbody>\n",
       "    <tr>\n",
       "      <th>145</th>\n",
       "      <td>146</td>\n",
       "      <td>6.7</td>\n",
       "      <td>3.0</td>\n",
       "      <td>5.2</td>\n",
       "      <td>2.3</td>\n",
       "      <td>Iris-virginica</td>\n",
       "    </tr>\n",
       "    <tr>\n",
       "      <th>146</th>\n",
       "      <td>147</td>\n",
       "      <td>6.3</td>\n",
       "      <td>2.5</td>\n",
       "      <td>5.0</td>\n",
       "      <td>1.9</td>\n",
       "      <td>Iris-virginica</td>\n",
       "    </tr>\n",
       "    <tr>\n",
       "      <th>147</th>\n",
       "      <td>148</td>\n",
       "      <td>6.5</td>\n",
       "      <td>3.0</td>\n",
       "      <td>5.2</td>\n",
       "      <td>2.0</td>\n",
       "      <td>Iris-virginica</td>\n",
       "    </tr>\n",
       "    <tr>\n",
       "      <th>148</th>\n",
       "      <td>149</td>\n",
       "      <td>6.2</td>\n",
       "      <td>3.4</td>\n",
       "      <td>5.4</td>\n",
       "      <td>2.3</td>\n",
       "      <td>Iris-virginica</td>\n",
       "    </tr>\n",
       "    <tr>\n",
       "      <th>149</th>\n",
       "      <td>150</td>\n",
       "      <td>5.9</td>\n",
       "      <td>3.0</td>\n",
       "      <td>5.1</td>\n",
       "      <td>1.8</td>\n",
       "      <td>Iris-virginica</td>\n",
       "    </tr>\n",
       "  </tbody>\n",
       "</table>\n",
       "</div>"
      ],
      "text/plain": [
       "      Id  SepalLengthCm  SepalWidthCm  PetalLengthCm  PetalWidthCm  \\\n",
       "145  146            6.7           3.0            5.2           2.3   \n",
       "146  147            6.3           2.5            5.0           1.9   \n",
       "147  148            6.5           3.0            5.2           2.0   \n",
       "148  149            6.2           3.4            5.4           2.3   \n",
       "149  150            5.9           3.0            5.1           1.8   \n",
       "\n",
       "            Species  \n",
       "145  Iris-virginica  \n",
       "146  Iris-virginica  \n",
       "147  Iris-virginica  \n",
       "148  Iris-virginica  \n",
       "149  Iris-virginica  "
      ]
     },
     "execution_count": 76,
     "metadata": {},
     "output_type": "execute_result"
    }
   ],
   "source": [
    "#loading dataset\n",
    "\n",
    "data=pd.read_csv(\"dataset_iris.csv\")\n",
    "data.head(5)\n",
    "data.tail()"
   ]
  },
  {
   "cell_type": "code",
   "execution_count": 183,
   "metadata": {},
   "outputs": [],
   "source": [
    "#defining distance function\n",
    "def euclid(d1,d2):\n",
    "    dist=0\n",
    "    for i in range(len(d2[0])):\n",
    "        dist+=math.pow((d1[i]-d2[0][i]),2)\n",
    "    return math.sqrt(dist)"
   ]
  },
  {
   "cell_type": "code",
   "execution_count": 185,
   "metadata": {},
   "outputs": [],
   "source": [
    "#class prediction functin\n",
    "def Predict(a):\n",
    "    x=list(a.tolist())\n",
    "    y=list(set(x))\n",
    "    print(y)\n",
    "    max=0\n",
    "    prediction=\"\"\n",
    "    for i in y:\n",
    "        c=x.count(i)\n",
    "        if max<c:\n",
    "            max=c\n",
    "            prediction=i\n",
    "    return prediction\n",
    "        "
   ]
  },
  {
   "cell_type": "code",
   "execution_count": 192,
   "metadata": {},
   "outputs": [
    {
     "name": "stdout",
     "output_type": "stream",
     "text": [
      "KNN with K= 10\n",
      "Nearest 10 neighbours:['Iris-setosa', 'Iris-setosa', 'Iris-setosa', 'Iris-setosa', 'Iris-setosa', 'Iris-setosa', 'Iris-setosa', 'Iris-versicolor', 'Iris-versicolor', 'Iris-setosa']\n",
      "['Iris-versicolor', 'Iris-setosa']\n",
      "Predicted class is : Iris-setosa\n"
     ]
    }
   ],
   "source": [
    "#defining KNN function\n",
    "\n",
    "def KNN(testdata,data,K=7):\n",
    "    dist=[]\n",
    "    \n",
    "    #calculating distance of testdata from each instance\n",
    "    for i in range(data.shape[0]):\n",
    "        dist.append([round(euclid(testdata,data.iloc[i:i+1,1:5].values),2),data.iloc[i:i+1,-1:].values[0][0]])\n",
    "    #sorting dist list\n",
    "    dist.sort()\n",
    "    dist=np.array(dist)\n",
    "    \n",
    "    #choosing K-Neareset Neighbours\n",
    "    if K not in [2,3,5,7]:\n",
    "        print(\"KNN with K=\",K)\n",
    "        print(\"Nearest {0} neighbours:{1}\".format(K,dist[:K,1].tolist()))\n",
    "        print(\"Predicted class is :\",Predict(dist[:K,1]))\n",
    "    else:\n",
    "         \n",
    "        print(\"KNN with K=2\")\n",
    "        print(\"Nearest 2 neighbours are:\",dist[:2,1].tolist())\n",
    "        print(\"Predicted class is :\",Predict(dist[:K,1]))\n",
    "\n",
    "        print(\"KNN with K=3\")\n",
    "        print(\"Nearest 3 neighbours are:\",dist[:3,1].tolist())\n",
    "        print(\"Predicted class is :\",Predict(dist[:K,1]))\n",
    "\n",
    "        print(\"KNN with K=5\")\n",
    "        print(\"Nearest 5 neighbours are:\",dist[:5,1].tolist())\n",
    "        print(\"Predicted class is :\",Predict(dist[:K,1]))\n",
    "        \n",
    "        print(\"KNN with K=7\")\n",
    "        print(\"Nearest 7 neighbours are:\",dist[:7,1].tolist())\n",
    "        print(\"Predicted class is :\",Predict(dist[:K,1]))\n",
    "    \n",
    "    \n",
    "    \n",
    "    \n",
    "x=np.array([4.1,2.5,2.4,0.5])\n",
    "KNN(x,data,7)"
   ]
  },
  {
   "cell_type": "code",
   "execution_count": 181,
   "metadata": {},
   "outputs": [],
   "source": []
  },
  {
   "cell_type": "code",
   "execution_count": 176,
   "metadata": {},
   "outputs": [
    {
     "name": "stdout",
     "output_type": "stream",
     "text": [
      "1\n"
     ]
    }
   ],
   "source": []
  }
 ],
 "metadata": {
  "kernelspec": {
   "display_name": "Python 3",
   "language": "python",
   "name": "python3"
  },
  "language_info": {
   "codemirror_mode": {
    "name": "ipython",
    "version": 3
   },
   "file_extension": ".py",
   "mimetype": "text/x-python",
   "name": "python",
   "nbconvert_exporter": "python",
   "pygments_lexer": "ipython3",
   "version": "3.6.10"
  }
 },
 "nbformat": 4,
 "nbformat_minor": 4
}
