{
 "cells": [
  {
   "cell_type": "code",
   "execution_count": 16,
   "metadata": {},
   "outputs": [
    {
     "name": "stdout",
     "output_type": "stream",
     "text": [
      "Enter height(inch):5.5\n",
      "Enter age:42\n",
      "Enter value of K4\n",
      "classes: [1.0, 1.0, 0.0, 1.0]\n",
      "1\n"
     ]
    },
    {
     "data": {
      "text/plain": [
       "<matplotlib.collections.PathCollection at 0x2ab232f5710>"
      ]
     },
     "execution_count": 16,
     "metadata": {},
     "output_type": "execute_result"
    },
    {
     "data": {
      "image/png": "[encoded data removed]",
      "text/plain": [
       "<Figure size 432x288 with 1 Axes>"
      ]
     },
     "metadata": {
      "needs_background": "light"
     },
     "output_type": "display_data"
    }
   ],
   "source": [
    "import math\n",
    "import numpy as np\n",
    "import matplotlib.pyplot as plt\n",
    "import copy\n",
    "reg_data = np.array([\n",
    "       [5,45,1],\n",
    "       [5.11,42,1],\n",
    "       [5.6,30,0],\n",
    "       [5.9,34,0],\n",
    "       [4.8,50,1],\n",
    "       [5.8,36,0],\n",
    "       [5.3,49,1],\n",
    "       [5.8,28,0],\n",
    "       [5.5,23,0],\n",
    "       [5.6,32,0]])\n",
    "plt.scatter(reg_data[:,1],reg_data[:,0],c=reg_data[:,2])\n",
    "#plt.scatter(38,5.5)\n",
    "def dist(p1,p2):\n",
    "    sum=0\n",
    "    for i in range(len(p1)-1):\n",
    "        sum+=pow((p1[i]-p2[i]),2)\n",
    "    return round(math.sqrt(sum),2)\n",
    "    \n",
    "def counter(l):\n",
    "    print(\"classes:\",l)\n",
    "    if l.count(1.0)>l.count(0.0):\n",
    "        return 1\n",
    "    else:\n",
    "        return 0\n",
    "\n",
    "test=[]\n",
    "test.append(float(input(\"Enter height(inch):\")))\n",
    "test.append(int(input(\"Enter age:\")))\n",
    "test.append(100)\n",
    "k=int(input(\"Enter value of K=\"))\n",
    "datalist=[]\n",
    "plt.scatter(test[1],test[0])\n",
    "for i in range(len(reg_data)):\n",
    "    datalist.append((dist(test,reg_data[i]),reg_data[i][0],reg_data[i][1],reg_data[i][2]))\n",
    "\n",
    "datalist.sort()\n",
    "data=[]\n",
    "for x in datalist[:k]:\n",
    "    data.append(x[3])\n",
    "datalist=np.array(datalist)\n",
    "print(counter(data))\n",
    "plt.scatter(datalist[:k,2],datalist[:k,1])"
   ]
  }
 ],
 "metadata": {
  "kernelspec": {
   "display_name": "Python 3",
   "language": "python",
   "name": "python3"
  },
  "language_info": {
   "codemirror_mode": {
    "name": "ipython",
    "version": 3
   },
   "file_extension": ".py",
   "mimetype": "text/x-python",
   "name": "python",
   "nbconvert_exporter": "python",
   "pygments_lexer": "ipython3",
   "version": "3.6.10"
  }
 },
 "nbformat": 4,
 "nbformat_minor": 4
}
