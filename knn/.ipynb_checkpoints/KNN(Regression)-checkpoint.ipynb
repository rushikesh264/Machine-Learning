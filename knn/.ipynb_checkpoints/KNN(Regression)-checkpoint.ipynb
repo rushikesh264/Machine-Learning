{
 "cells": [
  {
   "cell_type": "code",
   "execution_count": 10,
   "metadata": {},
   "outputs": [
    {
     "name": "stdout",
     "output_type": "stream",
     "text": [
      "Enter height(inch):3\n",
      "Enter age:40\n",
      "Enter value of K3\n",
      "[3.0, 40, 100]\n",
      "[(5.39, 5.0, 45.0, 77.0), (14.16, 5.11, 26.0, 47.0), (10.33, 5.6, 30.0, 55.0), (6.66, 5.9, 34.0, 59.0), (1.8, 4.8, 40.0, 72.0), (4.88, 5.8, 36.0, 60.0), (21.13, 5.3, 19.0, 40.0), (12.32, 5.8, 28.0, 60.0), (17.18, 5.5, 23.0, 45.0), (8.41, 5.6, 32.0, 58.0)]\n",
      "69.67\n",
      "[[ 1.8   4.8  40.   72.  ]\n",
      " [ 4.88  5.8  36.   60.  ]\n",
      " [ 5.39  5.   45.   77.  ]\n",
      " [ 6.66  5.9  34.   59.  ]\n",
      " [ 8.41  5.6  32.   58.  ]\n",
      " [10.33  5.6  30.   55.  ]\n",
      " [12.32  5.8  28.   60.  ]\n",
      " [14.16  5.11 26.   47.  ]\n",
      " [17.18  5.5  23.   45.  ]\n",
      " [21.13  5.3  19.   40.  ]]\n"
     ]
    },
    {
     "data": {
      "text/plain": [
       "<matplotlib.collections.PathCollection at 0x291b27f2390>"
      ]
     },
     "execution_count": 10,
     "metadata": {},
     "output_type": "execute_result"
    },
    {
     "data": {
      "image/png": "[encoded data removed]",
      "text/plain": [
       "<Figure size 432x288 with 1 Axes>"
      ]
     },
     "metadata": {
      "needs_background": "light"
     },
     "output_type": "display_data"
    }
   ],
   "source": [
    "import math\n",
    "import numpy as np\n",
    "import matplotlib.pyplot as plt\n",
    "import copy\n",
    "reg_data = np.array([\n",
    "       [5,45,77],\n",
    "       [5.11,26,47],\n",
    "       [5.6,30,55],\n",
    "       [5.9,34,59],\n",
    "       [4.8,40,72],\n",
    "       [5.8,36,60],\n",
    "       [5.3,19,40],\n",
    "       [5.8,28,60],\n",
    "       [5.5,23,45],\n",
    "       [5.6,32,58]])\n",
    "plt.scatter(reg_data[:,1],reg_data[:,0])\n",
    "#plt.scatter(38,5.5)\n",
    "def dist(p1,p2):\n",
    "    sum=0\n",
    "    for i in range(len(p1)-1):\n",
    "        sum+=pow((p1[i]-p2[i]),2)\n",
    "    return round(math.sqrt(sum),2)\n",
    "    \n",
    "def mean1(l):\n",
    "    sum=0\n",
    "    for x in range(len(l)):\n",
    "        sum+=l[x][3]\n",
    "    return round(sum/k,2)\n",
    "\n",
    "test=[]\n",
    "test.append(float(input(\"Enter height(inch):\")))\n",
    "test.append(int(input(\"Enter age:\")))\n",
    "test.append(100)\n",
    "k=int(input(\"Enter value of K\"))\n",
    "datalist=[]\n",
    "print(test)\n",
    "plt.scatter(test[1],test[0])\n",
    "for i in range(len(reg_data)):\n",
    "    datalist.append((dist(test,reg_data[i]),reg_data[i][0],reg_data[i][1],reg_data[i][2]))\n",
    "print(datalist)\n",
    "datalist.sort()\n",
    "print(mean1(datalist[:k]))\n",
    "datalist=np.array(datalist)\n",
    "print(datalist[:])\n",
    "plt.scatter(datalist[:k,2],datalist[:k,1])"
   ]
  }
 ],
 "metadata": {
  "kernelspec": {
   "display_name": "Python 3",
   "language": "python",
   "name": "python3"
  },
  "language_info": {
   "codemirror_mode": {
    "name": "ipython",
    "version": 3
   },
   "file_extension": ".py",
   "mimetype": "text/x-python",
   "name": "python",
   "nbconvert_exporter": "python",
   "pygments_lexer": "ipython3",
   "version": "3.6.10"
  }
 },
 "nbformat": 4,
 "nbformat_minor": 4
}
