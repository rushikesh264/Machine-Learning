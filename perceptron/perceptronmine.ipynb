{
 "cells": [
  {
   "cell_type": "code",
   "execution_count": 10,
   "metadata": {},
   "outputs": [
    {
     "name": "stdout",
     "output_type": "stream",
     "text": [
      "Do you want to use Existing data(Y/N):y\n",
      "[5.260000000000016, 0.6899999999999993, -1.9900000000000013]\n"
     ]
    },
    {
     "data": {
      "image/png": "[encoded data removed]",
      "text/plain": [
       "<Figure size 432x288 with 1 Axes>"
      ]
     },
     "metadata": {
      "needs_background": "light"
     },
     "output_type": "display_data"
    }
   ],
   "source": [
    "import random\n",
    "import copy\n",
    "import math\n",
    "import matplotlib.pyplot as plt\n",
    "class Perceptron:\n",
    "    def __init__(self):     # Getting data from user\n",
    "        self.data=[]\n",
    "        self.label=[]\n",
    "        self.data1=[]\n",
    "        self.Iterations=500\n",
    "        self.Learning_rate=0.01\n",
    "        d=input(\"Do you want to use Existing data(Y/N):\")\n",
    "        if d==\"Y\" or d==\"y\":\n",
    "            self.data=[[1, 1, 3], [1, 4, 4], [1, 2, 4], [1, 5, 5], [1, 3, 2]]\n",
    "            self.data1=[[1, 3], [4, 4], [2, 4], [5, 5], [3, 2]]\n",
    "            self.label=[0, 1, 0, 0, 1]\n",
    "            self.datalen=len(self.data)\n",
    "        else:\n",
    "            self.datalen=int(input(\"Enter number of samples:\"))\n",
    "            for i in range(self.datalen):\n",
    "                x=input(\"Enter  2 features values seperated by commas:\")\n",
    "                self.data.append([1]+[int(x1) for x1 in (x.split(\",\"))])\n",
    "                self.data1.append([int(x1) for x1 in (x.split(\",\"))])\n",
    "                self.label.append(int(input(\"Enter label of Entered sample:\")))\n",
    "        plt.scatter([x[0] for x in self.data1],[x[1] for x in self.data1])\n",
    "    def fit(self):\n",
    "        self.weights=[6,0,0]  # w is weight vector and w[0] is bias \n",
    "        for i in range(self.Iterations):\n",
    "            for j in range(self.datalen):\n",
    "                p=1\n",
    "                m=(self.data[j][0]*self.weights[0])+(self.data[j][1]*self.weights[1])+(self.data[j][2]*self.weights[2])\n",
    "                if m<0:\n",
    "                    p=0\n",
    "                if p!=self.label[j]:\n",
    "                    self.weights[0]+=(self.Learning_rate*(self.label[j]-p)*self.data[j][0])\n",
    "                    self.weights[1]+=(self.Learning_rate*(self.label[j]-p)*self.data[j][1])\n",
    "                    self.weights[2]+=(self.Learning_rate*(self.label[j]-p)*self.data[j][2])\n",
    "            \n",
    "        m=-(self.weights[1]/self.weights[2])\n",
    "        c=-(self.weights[0]/self.weights[2])\n",
    "        y1=(m*0)+c\n",
    "        y2=(m*6)+c\n",
    "        plt.plot([0,6],[y1,y2],color=\"red\")\n",
    "        print(self.weights)\n",
    "   \n",
    "            \n",
    "    def predict(self,testdata):\n",
    "        if self.weights==[6,0,0]:\n",
    "            print(\"Model is not trained yet!!!!\")\n",
    "        else:\n",
    "            testdata.insert(0,1)\n",
    "            p=1\n",
    "            m=(testdata[0]*self.weights[0])+(testdata[1]*self.weights[1])+(testdata[2]*self.weights[2])\n",
    "            if m<0:\n",
    "                p=0\n",
    "            print(p)\n",
    "obj1=Perceptron()\n",
    "obj1.fit()"
   ]
  },
  {
   "cell_type": "code",
   "execution_count": 12,
   "metadata": {},
   "outputs": [
    {
     "name": "stdout",
     "output_type": "stream",
     "text": [
      "1\n",
      "[5.260000000000016, 0.6899999999999993, -1.9900000000000013]\n"
     ]
    }
   ],
   "source": [
    "obj1.predict([4,4])\n",
    "print(obj1.weights)"
   ]
  }
 ],
 "metadata": {
  "kernelspec": {
   "display_name": "Python 3",
   "language": "python",
   "name": "python3"
  },
  "language_info": {
   "codemirror_mode": {
    "name": "ipython",
    "version": 3
   },
   "file_extension": ".py",
   "mimetype": "text/x-python",
   "name": "python",
   "nbconvert_exporter": "python",
   "pygments_lexer": "ipython3",
   "version": "3.6.10"
  }
 },
 "nbformat": 4,
 "nbformat_minor": 4
}
