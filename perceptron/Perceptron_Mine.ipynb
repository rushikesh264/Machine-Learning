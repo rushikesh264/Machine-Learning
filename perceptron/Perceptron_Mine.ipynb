{
 "cells": [
  {
   "cell_type": "code",
   "execution_count": 3,
   "metadata": {},
   "outputs": [
    {
     "data": {
      "text/plain": [
       "'                \\nX=np.array([1,5])\\nfig,ax=plt.subplots()\\nfig.set_tight_layout(True)\\nax.scatter(data[:,0],data[:,1])\\nslope=lii[0][0]\\nintercept=lii[0][1]\\nline,=ax.plot(X,X*slope+intercept)\\n\\nani=FuncAnimation(fig,animate\\n                  ,frames=np.arange(0,50),interval=100)\\nani.save(\"x.gif\",dpi=100,writer=\\'imagemagick\\')\\ndef animate(i):\\n    slope=lii[i][0]\\n    intercept=lii[i][1]\\n    line.set_data(X,X*slope+intercept)\\n    return line,ax\\n'"
      ]
     },
     "execution_count": 3,
     "metadata": {},
     "output_type": "execute_result"
    },
    {
     "data": {
      "image/png": "[encoded data removed]",
      "text/plain": [
       "<Figure size 432x288 with 1 Axes>"
      ]
     },
     "metadata": {
      "needs_background": "light"
     },
     "output_type": "display_data"
    }
   ],
   "source": [
    "import numpy as np\n",
    "import matplotlib.pyplot as plt\n",
    "from sklearn.datasets import make_classification\n",
    "from matplotlib.animation import FuncAnimation\n",
    "data, label = make_classification(\n",
    "    n_features=2,\n",
    "    n_classes=2,\n",
    "    n_samples=200,\n",
    "    n_redundant=0,\n",
    "    n_clusters_per_class=1\n",
    ")\n",
    "#data=np.array([[1, 3], [4, 4], [2, 4], [5, 5], [3, 2]])\n",
    "#label=np.array([0, 1, 0, 0, 1])\n",
    "w=[0,0,0]\n",
    "b=0\n",
    "lii=[]\n",
    "#df.plot.scatter(x=\"year\",y=\"length\",c=colors)\n",
    "color=label\n",
    "plt.scatter(data[:,0],data[:,1],c=color)\n",
    "for i in range(1000):\n",
    "    for j in range(len(data)):\n",
    "        m=((w[1]*data[j][0])+(w[2]*data[j][1])+b)  \n",
    "        if label[j]==0 and m>=0:\n",
    "            w[1]-=(data[j][0])*0.01\n",
    "            w[2]-=(data[j][1])*0.01\n",
    "            b-=0.01\n",
    "        elif label[j]==1 and m<0:\n",
    "            w[1]+=(data[j][0])*0.01\n",
    "            w[2]+=(data[j][1])*0.01\n",
    "            b+=0.01\n",
    "m=-(w[1]/w[2])\n",
    "c=-(b/w[2])\n",
    "plt.plot([-5,5],[(m*(-5)+c),(m*5+c)],color=\"red\")\n",
    "\n",
    "'''                \n",
    "X=np.array([1,5])\n",
    "fig,ax=plt.subplots()\n",
    "fig.set_tight_layout(True)\n",
    "ax.scatter(data[:,0],data[:,1])\n",
    "slope=lii[0][0]\n",
    "intercept=lii[0][1]\n",
    "line,=ax.plot(X,X*slope+intercept)\n",
    "\n",
    "ani=FuncAnimation(fig,animate\n",
    "                  ,frames=np.arange(0,50),interval=100)\n",
    "ani.save(\"x.gif\",dpi=100,writer='imagemagick')\n",
    "def animate(i):\n",
    "    slope=lii[i][0]\n",
    "    intercept=lii[i][1]\n",
    "    line.set_data(X,X*slope+intercept)\n",
    "    return line,ax\n",
    "'''"
   ]
  }
 ],
 "metadata": {
  "kernelspec": {
   "display_name": "Python 3",
   "language": "python",
   "name": "python3"
  },
  "language_info": {
   "codemirror_mode": {
    "name": "ipython",
    "version": 3
   },
   "file_extension": ".py",
   "mimetype": "text/x-python",
   "name": "python",
   "nbconvert_exporter": "python",
   "pygments_lexer": "ipython3",
   "version": "3.6.10"
  }
 },
 "nbformat": 4,
 "nbformat_minor": 4
}
