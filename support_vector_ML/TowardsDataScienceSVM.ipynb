{
 "cells": [
  {
   "cell_type": "code",
   "execution_count": 90,
   "metadata": {},
   "outputs": [
    {
     "name": "stdout",
     "output_type": "stream",
     "text": [
      "    sepal-length  sepal-width  petal-length  petal-width            class\n",
      "0            5.1          3.5           1.4          0.2      Iris-setosa\n",
      "1            4.9          3.0           1.4          0.2      Iris-setosa\n",
      "2            4.7          3.2           1.3          0.2      Iris-setosa\n",
      "3            4.6          3.1           1.5          0.2      Iris-setosa\n",
      "4            5.0          3.6           1.4          0.2      Iris-setosa\n",
      "..           ...          ...           ...          ...              ...\n",
      "95           5.7          3.0           4.2          1.2  Iris-versicolor\n",
      "96           5.7          2.9           4.2          1.3  Iris-versicolor\n",
      "97           6.2          2.9           4.3          1.3  Iris-versicolor\n",
      "98           5.1          2.5           3.0          1.1  Iris-versicolor\n",
      "99           5.7          2.8           4.1          1.3  Iris-versicolor\n",
      "\n",
      "[100 rows x 5 columns]\n"
     ]
    }
   ],
   "source": [
    "import pandas as pd\n",
    "url=\"https://raw.githubusercontent.com/jbrownlee/Datasets/master/iris.csv\"\n",
    "names=['sepal-length','sepal-width','petal-length','petal-width','class']\n",
    "df = pd.read_csv(url,names=names)\n",
    "\n",
    "rows = list(range(100,150))\n",
    "df = df.drop(df.index[rows])\n",
    "print(df)"
   ]
  },
  {
   "cell_type": "code",
   "execution_count": 91,
   "metadata": {},
   "outputs": [
    {
     "data": {
      "image/png": "[encoded data removed]",
      "text/plain": [
       "<Figure size 576x432 with 1 Axes>"
      ]
     },
     "metadata": {
      "needs_background": "light"
     },
     "output_type": "display_data"
    }
   ],
   "source": [
    "import matplotlib.pyplot as plt\n",
    "\n",
    "x = df['sepal-length']\n",
    "y = df['petal-length']\n",
    "\n",
    "setosa_x = x[:50]\n",
    "setosa_y = y[:50]\n",
    "\n",
    "versicolor_x = x[50:]\n",
    "versicolor_y = y[50:]\n",
    "\n",
    "plt.figure(figsize=(8,6))\n",
    "plt.scatter(setosa_x,setosa_y,marker='+',color='green')\n",
    "plt.scatter(versicolor_x,versicolor_y,marker='_',color='red')\n",
    "plt.show()\n",
    "\n"
   ]
  },
  {
   "cell_type": "code",
   "execution_count": 93,
   "metadata": {},
   "outputs": [],
   "source": [
    "from sklearn.utils import shuffle\n",
    "from sklearn.model_selection import train_test_split\n",
    "import numpy as np\n",
    "## Drop rest of the features and extract the target values\n",
    "df = df.drop(['sepal-width','petal-width'],axis=1)\n",
    "Y = []\n",
    "target = df['class']\n",
    "for val in target:\n",
    "    if(val == 'Iris-setosa'):\n",
    "        Y.append(-1)\n",
    "    else:\n",
    "        Y.append(1)\n",
    "df = df.drop(['class'],axis=1)\n",
    "X = df.values.tolist()\n",
    "## Shuffle and split the data into training and test set\n",
    "X, Y = shuffle(X,Y)\n",
    "x_train = []\n",
    "y_train = []\n",
    "x_test = []\n",
    "y_test = []\n",
    "\n",
    "x_train, x_test, y_train, y_test = train_test_split(X, Y, train_size=0.9)\n",
    "\n",
    "x_train = np.array(x_train)\n",
    "y_train = np.array(y_train)\n",
    "x_test = np.array(x_test)\n",
    "y_test = np.array(y_test)\n",
    "\n",
    "y_train = y_train.reshape(90,1)\n",
    "y_test = y_test.reshape(10,1)\n"
   ]
  },
  {
   "cell_type": "code",
   "execution_count": 105,
   "metadata": {},
   "outputs": [],
   "source": [
    "import numpy as np\n",
    "\n",
    "train_f1 = x_train[:,0]\n",
    "train_f2 = x_train[:,1]\n",
    "\n",
    "train_f1 = train_f1.reshape(90,1)\n",
    "train_f2 = train_f2.reshape(90,1)\n",
    "\n",
    "w1 = np.zeros((90,1))\n",
    "w2 = np.zeros((90,1))\n",
    "\n",
    "epochs = 1\n",
    "alpha = 0.001\n",
    "\n",
    "while(epochs < 1000):\n",
    "    y = w1 * train_f1 + w2 * train_f2\n",
    "    prod = y * y_train\n",
    "    count = 0\n",
    "    for val in prod:\n",
    "        if(val >= 1):\n",
    "            cost = 0\n",
    "            w1 = w1 - alpha * (2 * 1/epochs * w1)\n",
    "            w2 = w2 - alpha * (2 * 1/epochs * w2)\n",
    "            \n",
    "        else:\n",
    "            cost = 1 - val \n",
    "            w1 = w1 + alpha * (train_f1[count] * y_train[count] - 2 * 1/epochs * w1)\n",
    "            w2 = w2 + alpha * (train_f2[count] * y_train[count] - 2 * 1/epochs * w2)\n",
    "        count += 1\n",
    "    epochs += 1"
   ]
  },
  {
   "cell_type": "code",
   "execution_count": 142,
   "metadata": {},
   "outputs": [
    {
     "name": "stdout",
     "output_type": "stream",
     "text": [
      "1.0 5.1\n"
     ]
    },
    {
     "data": {
      "image/png": "[encoded data removed]",
      "text/plain": [
       "<Figure size 432x288 with 1 Axes>"
      ]
     },
     "metadata": {
      "needs_background": "light"
     },
     "output_type": "display_data"
    }
   ],
   "source": [
    "fig = plt.figure()\n",
    "ax = fig.add_subplot(1,1,1)\n",
    "ax.scatter(train_f1, train_f2, marker='o',c=y_train)\n",
    "\n",
    "\n",
    "\n",
    "def get_hyperplane_value(x, w1,w2, b, offset):\n",
    "          return (-w1[0] * x + b + offset) / w2[1]\n",
    "\n",
    "x0_1 = np.amin(x_train[:,0])\n",
    "x0_2 = np.amax(x_train[:,0])\n",
    "x1_1 = get_hyperplane_value(x0_1,w1,w2, cost, 0)\n",
    "x1_2 = get_hyperplane_value(x0_2,w1,w2, cost, 0)\n",
    "x1_1_m = get_hyperplane_value(x0_1,w1,w2, cost, -1)\n",
    "x1_2_m = get_hyperplane_value(x0_2, w1,w2, cost, -1)\n",
    "x1_1_p = get_hyperplane_value(x0_1, w1,w2, cost, 1)\n",
    "x1_2_p = get_hyperplane_value(x0_2,w1,w2, cost, 1)\n",
    "\n",
    "ax.plot([x0_1, x0_2],[x1_1, x1_2], 'y--')\n",
    "ax.plot([x0_1, x0_2],[x1_1_m, x1_2_m], 'k')\n",
    "ax.plot([x0_1, x0_2],[x1_1_p, x1_2_p], 'k')\n",
    "x1_min = np.amin(x_train[:,1])\n",
    "x1_max = np.amax(x_train[:,1])\n",
    "print(x1_min,x1_max)\n",
    "ax.set_ylim([x1_min,x1_max])\n",
    "plt.show()\n"
   ]
  },
  {
   "cell_type": "code",
   "execution_count": 115,
   "metadata": {},
   "outputs": [
    {
     "data": {
      "text/plain": [
       "0"
      ]
     },
     "execution_count": 115,
     "metadata": {},
     "output_type": "execute_result"
    }
   ],
   "source": [
    "cost"
   ]
  },
  {
   "cell_type": "code",
   "execution_count": 100,
   "metadata": {},
   "outputs": [
    {
     "name": "stdout",
     "output_type": "stream",
     "text": [
      "[[-0.90473679]\n",
      " [-0.90473679]\n",
      " [-0.90473679]\n",
      " [-0.90473679]\n",
      " [-0.90473679]\n",
      " [-0.90473679]\n",
      " [-0.90473679]\n",
      " [-0.90473679]\n",
      " [-0.90473679]\n",
      " [-0.90473679]]\n"
     ]
    }
   ],
   "source": [
    "print(w1)"
   ]
  }
 ],
 "metadata": {
  "kernelspec": {
   "display_name": "Python 3",
   "language": "python",
   "name": "python3"
  },
  "language_info": {
   "codemirror_mode": {
    "name": "ipython",
    "version": 3
   },
   "file_extension": ".py",
   "mimetype": "text/x-python",
   "name": "python",
   "nbconvert_exporter": "python",
   "pygments_lexer": "ipython3",
   "version": "3.6.10"
  }
 },
 "nbformat": 4,
 "nbformat_minor": 4
}
